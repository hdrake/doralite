{
 "cells": [
  {
   "cell_type": "markdown",
   "metadata": {},
   "source": [
    "## `doralite` API Examples"
   ]
  },
  {
   "cell_type": "markdown",
   "metadata": {},
   "source": [
    "Here are some examples for using the light-weight API for interacting with the Dora website in a Jupyter notebook"
   ]
  },
  {
   "cell_type": "code",
   "execution_count": 1,
   "metadata": {},
   "outputs": [],
   "source": [
    "%matplotlib inline\n",
    "\n",
    "import doralite\n",
    "import pandas as pd\n",
    "import seaborn as sns\n",
    "import subprocess\n",
    "import xarray as xr"
   ]
  },
  {
   "cell_type": "markdown",
   "metadata": {},
   "source": [
    "### Search Dora for Experiments"
   ]
  },
  {
   "cell_type": "markdown",
   "metadata": {},
   "source": [
    "Using the string 'OM4p125', we can search Dora for all matching experiments:"
   ]
  },
  {
   "cell_type": "code",
   "execution_count": 2,
   "metadata": {},
   "outputs": [
    {
     "name": "stdout",
     "output_type": "stream",
     "text": [
      "* 1085 /archive/ogrp/CMIP6/OMIP/warsaw_201803_mom6_2018.04.11/OM4p125_IAF_csf_JRA55do1-3_cycle1/gfdl.ncrc4-intel16-prod/pp\n",
      "* 1086 /archive/ogrp/CMIP6/OMIP/warsaw_201803_mom6_2018.04.11/OM4p125_IAF_csf/gfdl.ncrc4-intel16-prod/pp\n",
      "* 1087 /archive/ogrp/testing_20180703_mom6_2018.04.11/OM4p125_NYF_baseline/gfdl.ncrc4-intel16-prod/pp\n",
      "* 1100 /archive/oar.gfdl.ogrp-account/CMIP6/OMIP/warsaw_201803_mom6_2018.04.11/OM4p125_IAF_csf_JRA55do1-3_r2_cycle1/gfdl.ncrc4-intel16-prod/pp\n",
      "* 1116 /archive/oar.gfdl.ogrp-account/CMIP6/OMIP/warsaw_201803_mom6_2018.04.11/OM4p125_IAF_csf_JRA55do1-3_OcnAlbOpt5_cycle1/gfdl.ncrc4-intel16-prod/pp\n",
      "* 1151 /archive/oar.gfdl.ogrp-account/CMIP6/OMIP/warsaw_201803_mom6_2018.04.11/OM4p125_IAF_csf_JRA55do1-3_r2_cycle2/gfdl.ncrc4-intel16-prod/pp\n",
      "* 1163 /archive/oar.gfdl.ogrp-account/CMIP6/OMIP/xanadu_mom6_20181101/OM4p125_IAF_csf_JRA55do1-3_r4_cycle1/gfdl.ncrc4-intel16f2-prod/pp\n",
      "* 1164 /archive/oar.gfdl.ogrp-account/CMIP6/OMIP/xanadu_mom6_20181101/OM4p125_IAF_csf_CORE2_r4/gfdl.ncrc4-intel16f2-prod/pp\n",
      "* 1174 /archive/oar.gfdl.ogrp-account/CMIP6/OMIP/xanadu_mom6_20181101/OM4p125_IAF_csf_JRA55do1-3_r5_cycle1/gfdl.ncrc4-intel16f2-prod/pp\n",
      "* 1186 /archive/oar.gfdl.ogrp-account/CMIP6/OMIP/xanadu_mom6_20181101/OM4p125_IAF_csf_JRA55do1-3_r5_cycle2/gfdl.ncrc4-intel16f2-prod/pp\n",
      "* 1187 /archive/oar.gfdl.ogrp-account/CMIP6/OMIP/xanadu_mom6_20181101/OM4p125_IAF_csf_JRA55do1-3_r5_cycle3/gfdl.ncrc4-intel16f2-prod/pp\n",
      "* 1203 /archive/oar.gfdl.ogrp-account/CMIP6/OMIP/xanadu_mom6_20181101/OM4p125_IAF_csf_JRA55do1-3_r5_cycle4/gfdl.ncrc4-intel16f2-prod/pp/\n",
      "* 1223 /archive/oar.gfdl.ogrp-account/CMIP6/OMIP/xanadu_mom6_20181101/OM4p125_IAF_csf_CORE2_r5/gfdl.ncrc4-intel16f2-prod/pp\n",
      "* 1308 /archive/oar.gfdl.ogrp-account/nnz/xanadu_esm4_20190304_devgfdl_20190718/CM4_piControl_C_c96_OM4p125_noBLING_noBergs/gfdl.ncrc4-intel16-prod-openmp/pp\n",
      "* 1328 /archive/Raphael.Dussin/xanadu_esm4_20190304_mom6_2019.08.08/OM4p125_JRA55do1.4_cycle1/gfdl.ncrc4-intel16-prod/pp\n",
      "* 1351 /archive/Raphael.Dussin/xanadu_esm4_20190304_mom6_2019.08.08/OM4p125_JRA55do1.4_cycle2/gfdl.ncrc4-intel16-prod/pp/\n",
      "* 1357 /archive/Raphael.Dussin/xanadu_esm4_20190304_mom6_2019.08.08/OM4p125_JRA55do1.4_cycle2a/gfdl.ncrc4-intel16-prod/pp\n",
      "* 1363 /archive/Raphael.Dussin/xanadu_esm4_20190304_mom6_2019.12.16/OM4p125_JRA55do1.4_mle3d_cycle1/gfdl.ncrc4-intel16-prod/pp\n",
      "* 1385 /archive/Raphael.Dussin/xanadu_esm4_20190304_mom6_2019.12.16/OM4p125_JRA55do1.4_mle3d_cycle2/gfdl.ncrc4-intel16-prod/pp\n",
      "* 1402 /archive/Raphael.Dussin/xanadu_esm4_20190304_mom6_2019.12.16/OM4p125_JRA55do1.4_mle3d_cycle3/gfdl.ncrc4-intel16-prod/pp\n",
      "* 1432 /archive/Niki.Zadeh/xanadu_esm4_20190304_devgfdl_20200330/CM4_2010Control_C_noBLING_c192_OM4p125/gfdl.ncrc4-intel18-prod-openmp/pp\n",
      "* 1433 /archive/Niki.Zadeh/xanadu_esm4_20190304_devgfdl_20200330/CM4_2010Control_C_noBLING_c192_OM4p125/gfdl.ncrc4-intel18-prod-openmp/pp\n"
     ]
    }
   ],
   "source": [
    "doralite.search('OM4p125')"
   ]
  },
  {
   "cell_type": "markdown",
   "metadata": {},
   "source": [
    "### Obtain Metadata for an Experiment"
   ]
  },
  {
   "cell_type": "markdown",
   "metadata": {},
   "source": [
    "Once we know the id number for an experiment, the API can return a dictionary with the metadata associated with that experiment."
   ]
  },
  {
   "cell_type": "code",
   "execution_count": 3,
   "metadata": {},
   "outputs": [
    {
     "name": "stdout",
     "output_type": "stream",
     "text": [
      "displayName: None\n",
      "expLabels: c192_omp125_prototype,2010climo,engineering_run\n",
      "expLength: 10\n",
      "expMIP: None\n",
      "expName: CM4_2010Control_C_noBLING_c192_OM4p125\n",
      "expType: 2kControl\n",
      "id: 1433\n",
      "label: CM4_2010Control_C_noBLING_c192_OM4p125\n",
      "modelType: CM4\n",
      "pathAnalysis: /nbhome/Niki.Zadeh/xanadu_esm4_20190304_devgfdl_20200330/CM4_2010Control_C_noBLING_c192_OM4p125/\n",
      "pathDB: /gfdlhome/Niki.Zadeh/xanadu_esm4_20190304_devgfdl_20200330/CM4_2010Control_C_noBLING_c192_OM4p125/gfdl.ncrc4-intel18-prod-openmp/db/\n",
      "pathHistory: /archive/Niki.Zadeh/xanadu_esm4_20190304_devgfdl_20200330/CM4_2010Control_C_noBLING_c192_OM4p125/gfdl.ncrc4-intel18-prod-openmp/history/\n",
      "pathLog: None\n",
      "pathPP: /archive/Niki.Zadeh/xanadu_esm4_20190304_devgfdl_20200330/CM4_2010Control_C_noBLING_c192_OM4p125/gfdl.ncrc4-intel18-prod-openmp/pp/\n",
      "pathScript: /lustre/f2/dev/Niki.Zadeh/xanadu_esm4_20190304_devgfdl_20200330/CM4_2010Control_C_noBLING_c192_OM4p125/ncrc4.intel18-prod-openmp/scripts/\n",
      "pathXML: /home/Niki.Zadeh/ncrc/xmls/xanadu/mdt_xml_RTS/CM4_2010Control_C_c192_OM4p125.xml\n",
      "refresh: 1\n",
      "source: sqlite\n",
      "status: None\n",
      "urlCurator: None\n",
      "userName: Niki.Zadeh\n"
     ]
    }
   ],
   "source": [
    "metadata = doralite.dora_metadata(1433)\n",
    "for k in sorted(metadata.keys()):\n",
    "    print(f'{k}: {metadata[k]}')"
   ]
  },
  {
   "cell_type": "markdown",
   "metadata": {},
   "source": [
    "### Obtaining Global Mean Data as a DataFrame"
   ]
  },
  {
   "cell_type": "markdown",
   "metadata": {},
   "source": [
    "The API can return a Pandas DataFrame for a given experiment id.  The dataframe can then be plotted, analyzed, and exported to a NumPy array"
   ]
  },
  {
   "cell_type": "code",
   "execution_count": 4,
   "metadata": {},
   "outputs": [
    {
     "data": {
      "text/html": [
       "<div>\n",
       "<style scoped>\n",
       "    .dataframe tbody tr th:only-of-type {\n",
       "        vertical-align: middle;\n",
       "    }\n",
       "\n",
       "    .dataframe tbody tr th {\n",
       "        vertical-align: top;\n",
       "    }\n",
       "\n",
       "    .dataframe thead th {\n",
       "        text-align: right;\n",
       "    }\n",
       "</style>\n",
       "<table border=\"1\" class=\"dataframe\">\n",
       "  <thead>\n",
       "    <tr style=\"text-align: right;\">\n",
       "      <th></th>\n",
       "      <th>ave_rsntds</th>\n",
       "      <th>ave_evs</th>\n",
       "      <th>precip_ga</th>\n",
       "      <th>ave_rlntds</th>\n",
       "      <th>ave_hfds</th>\n",
       "      <th>tosga</th>\n",
       "      <th>ave_hfsso</th>\n",
       "      <th>soga</th>\n",
       "      <th>net_heat_coupler_ga</th>\n",
       "      <th>thetaoga</th>\n",
       "      <th>volo</th>\n",
       "      <th>sosga</th>\n",
       "      <th>LwLatSens_ga</th>\n",
       "      <th>ave_wfo</th>\n",
       "      <th>ave_hflso</th>\n",
       "      <th>ssh_ga</th>\n",
       "      <th>masso</th>\n",
       "    </tr>\n",
       "    <tr>\n",
       "      <th>date</th>\n",
       "      <th></th>\n",
       "      <th></th>\n",
       "      <th></th>\n",
       "      <th></th>\n",
       "      <th></th>\n",
       "      <th></th>\n",
       "      <th></th>\n",
       "      <th></th>\n",
       "      <th></th>\n",
       "      <th></th>\n",
       "      <th></th>\n",
       "      <th></th>\n",
       "      <th></th>\n",
       "      <th></th>\n",
       "      <th></th>\n",
       "      <th></th>\n",
       "      <th></th>\n",
       "    </tr>\n",
       "  </thead>\n",
       "  <tbody>\n",
       "    <tr>\n",
       "      <th>0001-07-01 12:00:00</th>\n",
       "      <td>175.462369</td>\n",
       "      <td>-0.000042</td>\n",
       "      <td>0.000037</td>\n",
       "      <td>-54.813927</td>\n",
       "      <td>0.112207</td>\n",
       "      <td>18.216041</td>\n",
       "      <td>-15.138810</td>\n",
       "      <td>34.720440</td>\n",
       "      <td>0.560376</td>\n",
       "      <td>3.586401</td>\n",
       "      <td>1.332220e+18</td>\n",
       "      <td>34.700939</td>\n",
       "      <td>-174.901993</td>\n",
       "      <td>-3.237439e-06</td>\n",
       "      <td>-104.949255</td>\n",
       "      <td>-0.075355</td>\n",
       "      <td>1.378851e+21</td>\n",
       "    </tr>\n",
       "    <tr>\n",
       "      <th>0002-07-01 12:00:00</th>\n",
       "      <td>173.544249</td>\n",
       "      <td>-0.000041</td>\n",
       "      <td>0.000038</td>\n",
       "      <td>-53.372849</td>\n",
       "      <td>0.447671</td>\n",
       "      <td>18.291863</td>\n",
       "      <td>-15.169945</td>\n",
       "      <td>34.720913</td>\n",
       "      <td>0.744834</td>\n",
       "      <td>3.588662</td>\n",
       "      <td>1.332202e+18</td>\n",
       "      <td>34.679731</td>\n",
       "      <td>-172.799414</td>\n",
       "      <td>-8.703284e-07</td>\n",
       "      <td>-104.256620</td>\n",
       "      <td>-0.126596</td>\n",
       "      <td>1.378831e+21</td>\n",
       "    </tr>\n",
       "    <tr>\n",
       "      <th>0003-07-01 12:00:00</th>\n",
       "      <td>174.246146</td>\n",
       "      <td>-0.000042</td>\n",
       "      <td>0.000038</td>\n",
       "      <td>-53.610644</td>\n",
       "      <td>0.698864</td>\n",
       "      <td>18.371185</td>\n",
       "      <td>-15.230234</td>\n",
       "      <td>34.721097</td>\n",
       "      <td>0.987850</td>\n",
       "      <td>3.589894</td>\n",
       "      <td>1.332195e+18</td>\n",
       "      <td>34.667507</td>\n",
       "      <td>-173.258295</td>\n",
       "      <td>-5.561459e-07</td>\n",
       "      <td>-104.417417</td>\n",
       "      <td>-0.146196</td>\n",
       "      <td>1.378824e+21</td>\n",
       "    </tr>\n",
       "    <tr>\n",
       "      <th>0004-07-01 12:00:00</th>\n",
       "      <td>173.970580</td>\n",
       "      <td>-0.000042</td>\n",
       "      <td>0.000038</td>\n",
       "      <td>-53.518149</td>\n",
       "      <td>0.651254</td>\n",
       "      <td>18.422346</td>\n",
       "      <td>-14.902846</td>\n",
       "      <td>34.721154</td>\n",
       "      <td>0.925472</td>\n",
       "      <td>3.591107</td>\n",
       "      <td>1.332192e+18</td>\n",
       "      <td>34.662310</td>\n",
       "      <td>-173.045108</td>\n",
       "      <td>-1.710210e-07</td>\n",
       "      <td>-104.624113</td>\n",
       "      <td>-0.151988</td>\n",
       "      <td>1.378822e+21</td>\n",
       "    </tr>\n",
       "    <tr>\n",
       "      <th>0005-07-01 12:00:00</th>\n",
       "      <td>174.569433</td>\n",
       "      <td>-0.000042</td>\n",
       "      <td>0.000038</td>\n",
       "      <td>-53.755142</td>\n",
       "      <td>0.957084</td>\n",
       "      <td>18.414486</td>\n",
       "      <td>-15.093424</td>\n",
       "      <td>34.721258</td>\n",
       "      <td>1.207423</td>\n",
       "      <td>3.593079</td>\n",
       "      <td>1.332188e+18</td>\n",
       "      <td>34.658209</td>\n",
       "      <td>-173.362011</td>\n",
       "      <td>-2.760897e-07</td>\n",
       "      <td>-104.513445</td>\n",
       "      <td>-0.163021</td>\n",
       "      <td>1.378818e+21</td>\n",
       "    </tr>\n",
       "  </tbody>\n",
       "</table>\n",
       "</div>"
      ],
      "text/plain": [
       "                     ave_rsntds   ave_evs  precip_ga  ave_rlntds  ave_hfds  \\\n",
       "date                                                                         \n",
       "0001-07-01 12:00:00  175.462369 -0.000042   0.000037  -54.813927  0.112207   \n",
       "0002-07-01 12:00:00  173.544249 -0.000041   0.000038  -53.372849  0.447671   \n",
       "0003-07-01 12:00:00  174.246146 -0.000042   0.000038  -53.610644  0.698864   \n",
       "0004-07-01 12:00:00  173.970580 -0.000042   0.000038  -53.518149  0.651254   \n",
       "0005-07-01 12:00:00  174.569433 -0.000042   0.000038  -53.755142  0.957084   \n",
       "\n",
       "                         tosga  ave_hfsso       soga  net_heat_coupler_ga  \\\n",
       "date                                                                        \n",
       "0001-07-01 12:00:00  18.216041 -15.138810  34.720440             0.560376   \n",
       "0002-07-01 12:00:00  18.291863 -15.169945  34.720913             0.744834   \n",
       "0003-07-01 12:00:00  18.371185 -15.230234  34.721097             0.987850   \n",
       "0004-07-01 12:00:00  18.422346 -14.902846  34.721154             0.925472   \n",
       "0005-07-01 12:00:00  18.414486 -15.093424  34.721258             1.207423   \n",
       "\n",
       "                     thetaoga          volo      sosga  LwLatSens_ga  \\\n",
       "date                                                                   \n",
       "0001-07-01 12:00:00  3.586401  1.332220e+18  34.700939   -174.901993   \n",
       "0002-07-01 12:00:00  3.588662  1.332202e+18  34.679731   -172.799414   \n",
       "0003-07-01 12:00:00  3.589894  1.332195e+18  34.667507   -173.258295   \n",
       "0004-07-01 12:00:00  3.591107  1.332192e+18  34.662310   -173.045108   \n",
       "0005-07-01 12:00:00  3.593079  1.332188e+18  34.658209   -173.362011   \n",
       "\n",
       "                          ave_wfo   ave_hflso    ssh_ga         masso  \n",
       "date                                                                   \n",
       "0001-07-01 12:00:00 -3.237439e-06 -104.949255 -0.075355  1.378851e+21  \n",
       "0002-07-01 12:00:00 -8.703284e-07 -104.256620 -0.126596  1.378831e+21  \n",
       "0003-07-01 12:00:00 -5.561459e-07 -104.417417 -0.146196  1.378824e+21  \n",
       "0004-07-01 12:00:00 -1.710210e-07 -104.624113 -0.151988  1.378822e+21  \n",
       "0005-07-01 12:00:00 -2.760897e-07 -104.513445 -0.163021  1.378818e+21  "
      ]
     },
     "execution_count": 4,
     "metadata": {},
     "output_type": "execute_result"
    }
   ],
   "source": [
    "df = doralite.global_mean_data(1433,'globalAveOcean')\n",
    "df.head()"
   ]
  },
  {
   "cell_type": "markdown",
   "metadata": {},
   "source": [
    "#### Simple plot of SST"
   ]
  },
  {
   "cell_type": "code",
   "execution_count": 5,
   "metadata": {},
   "outputs": [
    {
     "data": {
      "text/plain": [
       "<matplotlib.axes._subplots.AxesSubplot at 0x1194d98d0>"
      ]
     },
     "execution_count": 5,
     "metadata": {},
     "output_type": "execute_result"
    },
    {
     "data": {
      "image/png": "[encoded data removed]",
      "text/plain": [
       "<matplotlib.figure.Figure at 0x11957b240>"
      ]
     },
     "metadata": {
      "needs_background": "light"
     },
     "output_type": "display_data"
    }
   ],
   "source": [
    "df.tosga.plot(figsize=(10,6))"
   ]
  },
  {
   "cell_type": "markdown",
   "metadata": {},
   "source": [
    "#### More complex plot with error bars"
   ]
  },
  {
   "cell_type": "markdown",
   "metadata": {},
   "source": [
    "Here, we regress ocean volume mean temperature vs sea surface temperature"
   ]
  },
  {
   "cell_type": "code",
   "execution_count": 6,
   "metadata": {},
   "outputs": [
    {
     "data": {
      "text/plain": [
       "<matplotlib.axes._subplots.AxesSubplot at 0x11b5c67b8>"
      ]
     },
     "execution_count": 6,
     "metadata": {},
     "output_type": "execute_result"
    },
    {
     "data": {
      "image/png": "[encoded data removed]",
      "text/plain": [
       "<matplotlib.figure.Figure at 0x108ee1048>"
      ]
     },
     "metadata": {
      "needs_background": "light"
     },
     "output_type": "display_data"
    }
   ],
   "source": [
    "sns.regplot(x='tosga', y='thetaoga', marker=\"+\", data=df)"
   ]
  },
  {
   "cell_type": "markdown",
   "metadata": {},
   "source": [
    "##### Export variable to NumPy array"
   ]
  },
  {
   "cell_type": "code",
   "execution_count": 7,
   "metadata": {},
   "outputs": [
    {
     "name": "stdout",
     "output_type": "stream",
     "text": [
      "The shape of the array is (22,)\n",
      "The mean of the array is -0.16301918291157272\n",
      "The standard deviation of the array is 0.022202487558102956\n"
     ]
    }
   ],
   "source": [
    "array = df.ssh_ga.to_numpy()\n",
    "print(f'The shape of the array is {array.shape}')\n",
    "print(f'The mean of the array is {array.mean()}')\n",
    "print(f'The standard deviation of the array is {array.std()}')"
   ]
  },
  {
   "cell_type": "markdown",
   "metadata": {},
   "source": [
    "### Example Workflow to Plot SST (`thetao` at the surface)"
   ]
  },
  {
   "cell_type": "code",
   "execution_count": 10,
   "metadata": {},
   "outputs": [
    {
     "name": "stdout",
     "output_type": "stream",
     "text": [
      "/archive/Niki.Zadeh/xanadu_esm4_20190304_devgfdl_20200330/CM4_2010Control_C_noBLING_c192_OM4p125/gfdl.ncrc4-intel18-prod-openmp/pp/ocean_annual_z/ts/annual/10yr/ocean_annual_z.0001-0010.thetao.nc\n"
     ]
    }
   ],
   "source": [
    "# Get metadata about experiment 1433\n",
    "metadata = doralite.dora_metadata(1433)\n",
    "\n",
    "# Construct a path to a file containing thetao\n",
    "filepath = metadata['pathPP']+'ocean_annual_z/ts/annual/10yr/ocean_annual_z.0001-0010.thetao.nc'\n",
    "print(filepath)\n",
    "\n",
    "# consider dmgetting the file first, otherwise load file as an xarray dataset\n",
    "#ds = xr.open_dataset(filepath)\n",
    "\n",
    "# plot sst\n",
    "#ds.thetao(slice(lev=0)).plot()"
   ]
  }
 ],
 "metadata": {
  "kernelspec": {
   "display_name": "Python 3",
   "language": "python",
   "name": "python3"
  },
  "language_info": {
   "codemirror_mode": {
    "name": "ipython",
    "version": 3
   },
   "file_extension": ".py",
   "mimetype": "text/x-python",
   "name": "python",
   "nbconvert_exporter": "python",
   "pygments_lexer": "ipython3",
   "version": "3.6.7"
  }
 },
 "nbformat": 4,
 "nbformat_minor": 4
}
